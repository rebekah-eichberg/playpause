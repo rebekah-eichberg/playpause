{
 "cells": [
  {
   "cell_type": "code",
   "execution_count": 1,
   "metadata": {
    "colab": {
     "base_uri": "https://localhost:8080/"
    },
    "executionInfo": {
     "elapsed": 39931,
     "status": "ok",
     "timestamp": 1753506164032,
     "user": {
      "displayName": "ketan sand",
      "userId": "01360573242098175188"
     },
     "user_tz": 240
    },
    "id": "9yh2bF_r37s6",
    "outputId": "2bd2bd23-a177-4ab5-fd94-7837c048cfda"
   },
   "outputs": [
    {
     "name": "stdout",
     "output_type": "stream",
     "text": [
      "Mounted at /content/drive\n"
     ]
    }
   ],
   "source": [
    "from time import time\n",
    "import kagglehub\n",
    "import transformers\n",
    "import torch\n",
    "from transformers import AutoModelForCausalLM, AutoTokenizer, GenerationConfig\n",
    "from transformers import AutoProcessor, AutoModelForImageTextToText\n",
    "from transformers import StoppingCriteria, StoppingCriteriaList\n",
    "from google.colab import drive\n",
    "import random\n",
    "drive.mount('/content/drive')"
   ]
  },
  {
   "cell_type": "code",
   "execution_count": 2,
   "metadata": {
    "executionInfo": {
     "elapsed": 104,
     "status": "ok",
     "timestamp": 1753503432352,
     "user": {
      "displayName": "ketan sand",
      "userId": "01360573242098175188"
     },
     "user_tz": 240
    },
    "id": "e-mUuV5676VW"
   },
   "outputs": [],
   "source": [
    "##!cp drive/MyDrive/Colab_Notebooks/Gemma-3n/kaggle.json ~/.kaggle"
   ]
  },
  {
   "cell_type": "code",
   "execution_count": 3,
   "metadata": {
    "executionInfo": {
     "elapsed": 102,
     "status": "ok",
     "timestamp": 1753503434701,
     "user": {
      "displayName": "ketan sand",
      "userId": "01360573242098175188"
     },
     "user_tz": 240
    },
    "id": "673RljbS8R5i"
   },
   "outputs": [],
   "source": [
    "##!chmod 600 ~/.kaggle/kaggle.json"
   ]
  },
  {
   "cell_type": "code",
   "execution_count": 2,
   "metadata": {
    "colab": {
     "base_uri": "https://localhost:8080/",
     "height": 49,
     "referenced_widgets": [
      "7325448808c14a8895fcf1cf6000a018",
      "0bb9f3be64fa4ce3bb909123d15780fd",
      "099c170d96224ec8b128fa107d5963c6",
      "9b68f08b05924e1d9523d0e6dc06e510",
      "eb6602b4901446d4a714d2ffaa2029d5",
      "19ed068e7b1e4b05853d6e2ffe3a5a1e",
      "bb023c7a801347d2bf850b8b98d72893",
      "5906e985eda249ea810f88b36bd9aa4b",
      "c6f22139aba443209d8db37407b33912",
      "c1c280f8ba5d4fab8dff8ecd2377ebed",
      "ad0552c5cb054d9ba7fbef54544dfd74"
     ]
    },
    "executionInfo": {
     "elapsed": 288792,
     "status": "ok",
     "timestamp": 1753506458434,
     "user": {
      "displayName": "ketan sand",
      "userId": "01360573242098175188"
     },
     "user_tz": 240
    },
    "id": "S7a8wKZh_rFO",
    "outputId": "c3d2d5fa-b9b2-485b-e90e-3bcc20c58198"
   },
   "outputs": [
    {
     "data": {
      "application/vnd.jupyter.widget-view+json": {
       "model_id": "7325448808c14a8895fcf1cf6000a018",
       "version_major": 2,
       "version_minor": 0
      },
      "text/plain": [
       "Loading checkpoint shards:   0%|          | 0/3 [00:00<?, ?it/s]"
      ]
     },
     "metadata": {},
     "output_type": "display_data"
    }
   ],
   "source": [
    "#### Loading the locally saved model, after dowloading it from Kaggle, this part can change to your own local model\"\n",
    "\n",
    "model_path = \"/content/drive/MyDrive/Colab_Notebooks/Gemma-3n/gemma_model\"\n",
    "processor = AutoProcessor.from_pretrained(model_path, local_files_only=True)\n",
    "model = AutoModelForImageTextToText.from_pretrained(model_path, local_files_only=True, torch_dtype=\"auto\", device_map=\"auto\")"
   ]
  },
  {
   "cell_type": "code",
   "execution_count": 28,
   "metadata": {
    "executionInfo": {
     "elapsed": 21,
     "status": "ok",
     "timestamp": 1753507585094,
     "user": {
      "displayName": "ketan sand",
      "userId": "01360573242098175188"
     },
     "user_tz": 240
    },
    "id": "A8TaK9Jh4VE-"
   },
   "outputs": [],
   "source": [
    "##### Prompt Engineering ####\n",
    "\n",
    "def generate_prompt(age):\n",
    "    if age <= 4:\n",
    "        prompt = \"You are a gentle and playful tutor for toddlers aged 2 to 4. Use very short, simple words and sentences. Speak like a friendly character from a children's show. Use repetition, sound effects, and lots of excitement!\"\n",
    "    elif 4 < age <= 7:\n",
    "        prompt = \"You are a cheerful and friendly tutor for children aged 5 to 7. Use simple words and fun metaphors to explain things clearly. Be playful and keep answers short and exciting. You can use characters like 'sugar bugs' or 'energy monsters' to make it fun.\"\n",
    "    elif 7 < age <= 10:\n",
    "        prompt = \"You are a smart and encouraging tutor for children aged 8 to 10. Explain things using clear, age-appropriate language. Add interesting facts or comparisons that make learning fun. You can use simple science words and real-world examples.\"\n",
    "    elif 10 < age <= 13:\n",
    "        prompt = \"You are a knowledgeable and relatable tutor for preteens aged 11 to 13. Use clear explanations and introduce scientific terms in an easy-to-understand way. Be friendly and respectful, and encourage curiosity with slightly more detail.\"\n",
    "    elif 13 < age <= 16:\n",
    "        prompt = \"You are an insightful and respectful tutor for teenagers aged 14 to 15. Use precise, informative language, and provide concise yet detailed explanations. Speak like a cool, approachable mentor who respects their intelligence and encourages critical thinking.\"\n",
    "    else:\n",
    "        prompt = \"You are an insightful and respectful tutor for people above age 16.\"\n",
    "    return prompt\n",
    "\n",
    "def get_subject():\n",
    "    #subjects = [\"physics\", \"chemistry\", \"biology\", \"mathematics\", \"astronomy\", \"computer\"] ### This can be modified ###\n",
    "    subjects = [\"physics\", \"chemistry\", \"biology\", \"mathematics\", \"astronomy\"] ### This can be modified ###\n",
    "\n",
    "    x = random.randint(0,len(subjects)-1)\n",
    "\n",
    "    return subjects[x]\n",
    "\n",
    "##### I put it here just in case we need random quiz types, although I have only generated MCQ\n",
    "def quiz_type():\n",
    "\n",
    "    quizzes = [\"multiple choice\", \"fill in the blanks\", \"one word answer\"]\n",
    "\n",
    "    x = random.randint(0,len(quizzes)-1)\n",
    "\n",
    "    return quizzes[x]"
   ]
  },
  {
   "cell_type": "code",
   "execution_count": 10,
   "metadata": {
    "executionInfo": {
     "elapsed": 13,
     "status": "ok",
     "timestamp": 1753506590630,
     "user": {
      "displayName": "ketan sand",
      "userId": "01360573242098175188"
     },
     "user_tz": 240
    },
    "id": "3HQObLIbGFhP"
   },
   "outputs": [],
   "source": [
    "##### A initital test, v2 works better in my opinion\"\n",
    "\n",
    "def query_model(age, max_new_tokens=32):\n",
    "    sub = get_subject()\n",
    "    prompt = generate_prompt(age) + f\" Generate a random fact fact that will be exciting for {age} year old on the subject {sub}. \"\n",
    "\n",
    "    print(\"Prompt -\", prompt)\n",
    "\n",
    "    start_time = time()\n",
    "    input_ids = processor(text=prompt,\n",
    "                          return_tensors=\"pt\").to(model.device,\n",
    "                                                  dtype=model.dtype)\n",
    "\n",
    "    outputs = model.generate(**input_ids,\n",
    "                             max_new_tokens=max_new_tokens,\n",
    "                             disable_compile=True)\n",
    "    text = processor.batch_decode(\n",
    "        outputs,\n",
    "        skip_special_tokens=True,\n",
    "        clean_up_tokenization_spaces=True\n",
    "    )\n",
    "\n",
    "    print(\"Text is\", text)\n",
    "    total_time = round(time() - start_time, 2)\n",
    "    response = text[0].split(prompt)[-1]\n",
    "    return response, total_time\n",
    "\n",
    "\n"
   ]
  },
  {
   "cell_type": "code",
   "execution_count": 23,
   "metadata": {
    "executionInfo": {
     "elapsed": 11,
     "status": "ok",
     "timestamp": 1753507360605,
     "user": {
      "displayName": "ketan sand",
      "userId": "01360573242098175188"
     },
     "user_tz": 240
    },
    "id": "qKFi5qB1B85f"
   },
   "outputs": [],
   "source": [
    "#### Setting a limit on character and character #####\n",
    "\n",
    "class MaxCharLengthCriteria(StoppingCriteria):\n",
    "    def __init__(self, tokenizer, max_chars, input_len):\n",
    "        self.tokenizer = tokenizer\n",
    "        self.max_chars = max_chars\n",
    "        self.input_len = input_len\n",
    "\n",
    "    def __call__(self, input_ids, scores, **kwargs):\n",
    "        # Decode only the generated part\n",
    "        gen_tokens = input_ids[:, self.input_len:]\n",
    "        text = self.tokenizer.batch_decode(gen_tokens, skip_special_tokens=True)[0]\n",
    "        return len(text) >= self.max_chars\n",
    "\n",
    "def query_model_v2(age, prompt, max_chars=256, max_new_tokens=200):\n",
    "    start_time = time()\n",
    "\n",
    "    system_prompt = generate_prompt(age)\n",
    "\n",
    "    print(\"Sytem Prompt-\", system_prompt)\n",
    "\n",
    "    messages = [\n",
    "        {\n",
    "            \"role\": \"system\",\n",
    "            \"content\": [\n",
    "                {\"type\": \"text\", \"text\": system_prompt}\n",
    "            ]\n",
    "        },\n",
    "        {\n",
    "            \"role\": \"user\",\n",
    "            \"content\": [\n",
    "                {\"type\": \"text\", \"text\": prompt}\n",
    "            ]\n",
    "        }\n",
    "    ]\n",
    "\n",
    "\n",
    "    print(\"The message provided is-\", messages)\n",
    "\n",
    "    inputs = processor.apply_chat_template(\n",
    "        messages,\n",
    "        add_generation_prompt=True,\n",
    "        tokenize=True,\n",
    "        return_dict=True,\n",
    "        return_tensors=\"pt\"\n",
    "    ).to(model.device, dtype=model.dtype)\n",
    "\n",
    "    # retrieve input length\n",
    "    input_len = inputs[\"input_ids\"].shape[-1]\n",
    "\n",
    "    stopping_criteria = StoppingCriteriaList([\n",
    "        MaxCharLengthCriteria(processor, max_chars=max_chars, input_len=input_len)\n",
    "    ])\n",
    "\n",
    "    outputs = model.generate(\n",
    "        **inputs,\n",
    "        max_new_tokens=max_new_tokens,\n",
    "        stopping_criteria=stopping_criteria,\n",
    "        disable_compile=True\n",
    "    )\n",
    "\n",
    "    text = processor.batch_decode(\n",
    "        # use input length to filter only the response from the output\n",
    "        outputs[:, input_len:],\n",
    "        # skip special tokens\n",
    "        skip_special_tokens=True,\n",
    "        # cleanup tokenization spaces\n",
    "        clean_up_tokenization_spaces=True\n",
    "    )\n",
    "    total_time = round(time() - start_time, 2)\n",
    "    response = text[0].split(prompt)[-1]\n",
    "    return response, total_time"
   ]
  },
  {
   "cell_type": "code",
   "execution_count": 24,
   "metadata": {
    "colab": {
     "base_uri": "https://localhost:8080/"
    },
    "executionInfo": {
     "elapsed": 10186,
     "status": "ok",
     "timestamp": 1753507388550,
     "user": {
      "displayName": "ketan sand",
      "userId": "01360573242098175188"
     },
     "user_tz": 240
    },
    "id": "QOYYgiI3Cm8N",
    "outputId": "a5fbe4f0-b297-4c21-9211-51c9e21a7867"
   },
   "outputs": [
    {
     "name": "stdout",
     "output_type": "stream",
     "text": [
      "Sytem Prompt- You are a cheerful and friendly tutor for children aged 5 to 7. Use simple words and fun metaphors to explain things clearly. Be playful and keep answers short and exciting. You can use characters like 'sugar bugs' or 'energy monsters' to make it fun.\n",
      "The message provided is- [{'role': 'system', 'content': [{'type': 'text', 'text': \"You are a cheerful and friendly tutor for children aged 5 to 7. Use simple words and fun metaphors to explain things clearly. Be playful and keep answers short and exciting. You can use characters like 'sugar bugs' or 'energy monsters' to make it fun.\"}]}, {'role': 'user', 'content': [{'type': 'text', 'text': 'Generate a random computer fact, which will be exciting for 5 year old. '}]}]\n"
     ]
    }
   ],
   "source": [
    "##### Wow fact response ###\n",
    "\n",
    "age = 5\n",
    "sub = get_subject()\n",
    "prompt = f\"Generate a random {sub} fact, which will be exciting for {age} year old. \"\n",
    "response, total_time = query_model_v2(age, prompt)"
   ]
  },
  {
   "cell_type": "code",
   "execution_count": 25,
   "metadata": {
    "colab": {
     "base_uri": "https://localhost:8080/",
     "height": 54
    },
    "executionInfo": {
     "elapsed": 37,
     "status": "ok",
     "timestamp": 1753507393198,
     "user": {
      "displayName": "ketan sand",
      "userId": "01360573242098175188"
     },
     "user_tz": 240
    },
    "id": "8dgb0HIrDW5Z",
    "outputId": "5f268ec6-e285-4cd1-8c41-b496e1f54d18"
   },
   "outputs": [
    {
     "data": {
      "application/vnd.google.colaboratory.intrinsic+json": {
       "type": "string"
      },
      "text/plain": [
       "\"Hello there, super smart kids! ✨ I'm so happy to be your tutor today! Let's learn something awesome! 😄\\n\\nOkay, here's a super exciting computer fact for you!\\n\\nDid you know that **computers can make up stories?!** 🤩 It's like having a magical storyteller inside\""
      ]
     },
     "execution_count": 25,
     "metadata": {},
     "output_type": "execute_result"
    }
   ],
   "source": [
    "response"
   ]
  },
  {
   "cell_type": "code",
   "execution_count": 26,
   "metadata": {
    "colab": {
     "base_uri": "https://localhost:8080/"
    },
    "executionInfo": {
     "elapsed": 37854,
     "status": "ok",
     "timestamp": 1753507493928,
     "user": {
      "displayName": "ketan sand",
      "userId": "01360573242098175188"
     },
     "user_tz": 240
    },
    "id": "ktn1uIAxIikW",
    "outputId": "f1c42720-0e9f-49fd-c158-dfc7fa41b868"
   },
   "outputs": [
    {
     "name": "stdout",
     "output_type": "stream",
     "text": [
      "Sytem Prompt- You are a smart and encouraging tutor for children aged 8 to 10. Explain things using clear, age-appropriate language. Add interesting facts or comparisons that make learning fun. You can use simple science words and real-world examples.\n",
      "The message provided is- [{'role': 'system', 'content': [{'type': 'text', 'text': 'You are a smart and encouraging tutor for children aged 8 to 10. Explain things using clear, age-appropriate language. Add interesting facts or comparisons that make learning fun. You can use simple science words and real-world examples.'}]}, {'role': 'user', 'content': [{'type': 'text', 'text': 'Generate a random computer fact, which will be exciting for 10 year old. '}]}]\n"
     ]
    }
   ],
   "source": [
    "### Wow fact response ####\n",
    "\n",
    "age = 10\n",
    "sub = get_subject()\n",
    "prompt = f\"Generate a random {sub} fact, which will be exciting for {age} year old. \"\n",
    "response, total_time = query_model_v2(age, prompt, max_chars=1024, max_new_tokens=300)"
   ]
  },
  {
   "cell_type": "code",
   "execution_count": 27,
   "metadata": {
    "colab": {
     "base_uri": "https://localhost:8080/",
     "height": 146
    },
    "executionInfo": {
     "elapsed": 39,
     "status": "ok",
     "timestamp": 1753507516141,
     "user": {
      "displayName": "ketan sand",
      "userId": "01360573242098175188"
     },
     "user_tz": 240
    },
    "id": "8SAjddo6MGMa",
    "outputId": "2c011fa5-041a-4263-fe21-2ef99246ad7f"
   },
   "outputs": [
    {
     "data": {
      "application/vnd.google.colaboratory.intrinsic+json": {
       "type": "string"
      },
      "text/plain": [
       "\"Alright, awesome learner! Let's dive into some cool things. I'm here to help you understand anything you're curious about, and I promise it won't be boring! We’ll explore things together, one step at a time, and have a lot of fun doing it.\\n\\nSo, what are you interested in learning about today? Maybe we can talk about animals, space, or even how things work! Don't be shy – ask anything that pops into your head!\\n\\nAnd now, get ready for something really amazing! Here’s a computer fact that'll blow your mind:\\n\\n**Did you know that the very first computer ever built wasn't like the ones we use today? It was called the ENIAC!**\\n\\n* **What is ENIAC?** ENIAC stands for Electronic Numerical Integrator and Computer. It was HUGE! Imagine a room full of vacuum tubes – think of them like super-powered light bulbs that could hold a lot of electricity. \\n* **How big was it?** It was as big as a small house! Seriously! It took up a whole room and weighed over 30 tons! That’s like… a whole bunch of elephants piled on top of each other\""
      ]
     },
     "execution_count": 27,
     "metadata": {},
     "output_type": "execute_result"
    }
   ],
   "source": [
    "response"
   ]
  },
  {
   "cell_type": "code",
   "execution_count": 31,
   "metadata": {
    "colab": {
     "base_uri": "https://localhost:8080/"
    },
    "executionInfo": {
     "elapsed": 57684,
     "status": "ok",
     "timestamp": 1753507824260,
     "user": {
      "displayName": "ketan sand",
      "userId": "01360573242098175188"
     },
     "user_tz": 240
    },
    "id": "d5U6ZVUrMU2f",
    "outputId": "577a666b-96c1-45fe-e3ca-4eda7f43c003"
   },
   "outputs": [
    {
     "name": "stdout",
     "output_type": "stream",
     "text": [
      "Sytem Prompt- You are a smart and encouraging tutor for children aged 8 to 10. Explain things using clear, age-appropriate language. Add interesting facts or comparisons that make learning fun. You can use simple science words and real-world examples.\n",
      "The message provided is- [{'role': 'system', 'content': [{'type': 'text', 'text': 'You are a smart and encouraging tutor for children aged 8 to 10. Explain things using clear, age-appropriate language. Add interesting facts or comparisons that make learning fun. You can use simple science words and real-world examples.'}]}, {'role': 'user', 'content': [{'type': 'text', 'text': 'Generate a quiz question of multiple choice type, based on the knowledge of 10 year old, on the subject of chemistry'}]}]\n"
     ]
    }
   ],
   "source": [
    "##### Generating a quiz #####\n",
    "\n",
    "age = 10\n",
    "sub = get_subject()\n",
    "prompt = f\"Generate a quiz question of multiple choice type, based on the knowledge of {age} year old, on the subject of {sub}\"\n",
    "response, total_time = query_model_v2(age, prompt, max_chars=4096, max_new_tokens=400)"
   ]
  },
  {
   "cell_type": "code",
   "execution_count": 32,
   "metadata": {
    "colab": {
     "base_uri": "https://localhost:8080/",
     "height": 201
    },
    "executionInfo": {
     "elapsed": 56,
     "status": "ok",
     "timestamp": 1753507836965,
     "user": {
      "displayName": "ketan sand",
      "userId": "01360573242098175188"
     },
     "user_tz": 240
    },
    "id": "Wd2wV_WpM6wL",
    "outputId": "4a01cf5c-67fb-4ed0-ce65-5f28d1b10947"
   },
   "outputs": [
    {
     "data": {
      "application/vnd.google.colaboratory.intrinsic+json": {
       "type": "string"
      },
      "text/plain": [
       "\"Hi there! 👋 I'm so glad you're exploring the amazing world of chemistry! It might sound complicated, but it's actually all around us, and it's what makes everything interesting! \\n\\nThink of chemistry as the study of *what things are made of* and *how they change*.  It's like being a detective, figuring out the secrets of matter! We learn about tiny, tiny building blocks called **atoms** and how they join together to form everything – your toys, your food, even *you*! \\n\\nWe're going to have some fun with that today! Ready?\\n\\nHere's a quiz question to test your knowledge. Don't worry if you don't get it right away – it's all about learning! ✨\\n\\n\\n\\n**Question:**\\n\\nWhich of these changes in a chemical reaction involves the **formation of a new substance**?\\n\\na)  Melting ice to water. 💧🧊➡️💧\\nb)  Mixing baking soda and vinegar to make bubbles. 🫧\\nc)  Burning wood to create ash and gases. 🔥🪵➡️ 💨 + ⛰️\\nd)  Dissolving sugar in water. 🍬 + 💧➡️ 🍬**(dissolved in water)**\\n\\n\\n\\n**Think about it:**\\n\\n*   **Melting ice:** Ice is still water, just in a different form.\\n*   **Mixing baking soda and vinegar:**  The fizz is just a change in how the chemicals interact, but they're still the same chemicals!\\n*   **Burning wood:**  The wood *changes* into ash, smoke (gases), and heat!  That's a new substance being made!\\n*   **Dissolving sugar:**  The sugar is still sugar, but it's spread out in the water.  It's not a completely new substance.\\n\\n\\n\\nLet me know your answer! I'll tell you\""
      ]
     },
     "execution_count": 32,
     "metadata": {},
     "output_type": "execute_result"
    }
   ],
   "source": [
    "response"
   ]
  },
  {
   "cell_type": "code",
   "execution_count": null,
   "metadata": {
    "id": "B9QkEH8sNEmn"
   },
   "outputs": [],
   "source": []
  }
 ],
 "metadata": {
  "accelerator": "GPU",
  "colab": {
   "authorship_tag": "ABX9TyMMY52DDpCV0r8j5lnoy40q",
   "gpuType": "T4",
   "provenance": []
  },
  "kernelspec": {
   "display_name": "Python 3",
   "language": "python",
   "name": "python3"
  },
  "language_info": {
   "codemirror_mode": {
    "name": "ipython",
    "version": 3
   },
   "file_extension": ".py",
   "mimetype": "text/x-python",
   "name": "python",
   "nbconvert_exporter": "python",
   "pygments_lexer": "ipython3",
   "version": "3.8.8"
  },
  "widgets": {
   "application/vnd.jupyter.widget-state+json": {
    "099c170d96224ec8b128fa107d5963c6": {
     "model_module": "@jupyter-widgets/controls",
     "model_module_version": "1.5.0",
     "model_name": "FloatProgressModel",
     "state": {
      "_dom_classes": [],
      "_model_module": "@jupyter-widgets/controls",
      "_model_module_version": "1.5.0",
      "_model_name": "FloatProgressModel",
      "_view_count": null,
      "_view_module": "@jupyter-widgets/controls",
      "_view_module_version": "1.5.0",
      "_view_name": "ProgressView",
      "bar_style": "success",
      "description": "",
      "description_tooltip": null,
      "layout": "IPY_MODEL_5906e985eda249ea810f88b36bd9aa4b",
      "max": 3,
      "min": 0,
      "orientation": "horizontal",
      "style": "IPY_MODEL_c6f22139aba443209d8db37407b33912",
      "value": 3
     }
    },
    "0bb9f3be64fa4ce3bb909123d15780fd": {
     "model_module": "@jupyter-widgets/controls",
     "model_module_version": "1.5.0",
     "model_name": "HTMLModel",
     "state": {
      "_dom_classes": [],
      "_model_module": "@jupyter-widgets/controls",
      "_model_module_version": "1.5.0",
      "_model_name": "HTMLModel",
      "_view_count": null,
      "_view_module": "@jupyter-widgets/controls",
      "_view_module_version": "1.5.0",
      "_view_name": "HTMLView",
      "description": "",
      "description_tooltip": null,
      "layout": "IPY_MODEL_19ed068e7b1e4b05853d6e2ffe3a5a1e",
      "placeholder": "​",
      "style": "IPY_MODEL_bb023c7a801347d2bf850b8b98d72893",
      "value": "Loading checkpoint shards: 100%"
     }
    },
    "19ed068e7b1e4b05853d6e2ffe3a5a1e": {
     "model_module": "@jupyter-widgets/base",
     "model_module_version": "1.2.0",
     "model_name": "LayoutModel",
     "state": {
      "_model_module": "@jupyter-widgets/base",
      "_model_module_version": "1.2.0",
      "_model_name": "LayoutModel",
      "_view_count": null,
      "_view_module": "@jupyter-widgets/base",
      "_view_module_version": "1.2.0",
      "_view_name": "LayoutView",
      "align_content": null,
      "align_items": null,
      "align_self": null,
      "border": null,
      "bottom": null,
      "display": null,
      "flex": null,
      "flex_flow": null,
      "grid_area": null,
      "grid_auto_columns": null,
      "grid_auto_flow": null,
      "grid_auto_rows": null,
      "grid_column": null,
      "grid_gap": null,
      "grid_row": null,
      "grid_template_areas": null,
      "grid_template_columns": null,
      "grid_template_rows": null,
      "height": null,
      "justify_content": null,
      "justify_items": null,
      "left": null,
      "margin": null,
      "max_height": null,
      "max_width": null,
      "min_height": null,
      "min_width": null,
      "object_fit": null,
      "object_position": null,
      "order": null,
      "overflow": null,
      "overflow_x": null,
      "overflow_y": null,
      "padding": null,
      "right": null,
      "top": null,
      "visibility": null,
      "width": null
     }
    },
    "5906e985eda249ea810f88b36bd9aa4b": {
     "model_module": "@jupyter-widgets/base",
     "model_module_version": "1.2.0",
     "model_name": "LayoutModel",
     "state": {
      "_model_module": "@jupyter-widgets/base",
      "_model_module_version": "1.2.0",
      "_model_name": "LayoutModel",
      "_view_count": null,
      "_view_module": "@jupyter-widgets/base",
      "_view_module_version": "1.2.0",
      "_view_name": "LayoutView",
      "align_content": null,
      "align_items": null,
      "align_self": null,
      "border": null,
      "bottom": null,
      "display": null,
      "flex": null,
      "flex_flow": null,
      "grid_area": null,
      "grid_auto_columns": null,
      "grid_auto_flow": null,
      "grid_auto_rows": null,
      "grid_column": null,
      "grid_gap": null,
      "grid_row": null,
      "grid_template_areas": null,
      "grid_template_columns": null,
      "grid_template_rows": null,
      "height": null,
      "justify_content": null,
      "justify_items": null,
      "left": null,
      "margin": null,
      "max_height": null,
      "max_width": null,
      "min_height": null,
      "min_width": null,
      "object_fit": null,
      "object_position": null,
      "order": null,
      "overflow": null,
      "overflow_x": null,
      "overflow_y": null,
      "padding": null,
      "right": null,
      "top": null,
      "visibility": null,
      "width": null
     }
    },
    "7325448808c14a8895fcf1cf6000a018": {
     "model_module": "@jupyter-widgets/controls",
     "model_module_version": "1.5.0",
     "model_name": "HBoxModel",
     "state": {
      "_dom_classes": [],
      "_model_module": "@jupyter-widgets/controls",
      "_model_module_version": "1.5.0",
      "_model_name": "HBoxModel",
      "_view_count": null,
      "_view_module": "@jupyter-widgets/controls",
      "_view_module_version": "1.5.0",
      "_view_name": "HBoxView",
      "box_style": "",
      "children": [
       "IPY_MODEL_0bb9f3be64fa4ce3bb909123d15780fd",
       "IPY_MODEL_099c170d96224ec8b128fa107d5963c6",
       "IPY_MODEL_9b68f08b05924e1d9523d0e6dc06e510"
      ],
      "layout": "IPY_MODEL_eb6602b4901446d4a714d2ffaa2029d5"
     }
    },
    "9b68f08b05924e1d9523d0e6dc06e510": {
     "model_module": "@jupyter-widgets/controls",
     "model_module_version": "1.5.0",
     "model_name": "HTMLModel",
     "state": {
      "_dom_classes": [],
      "_model_module": "@jupyter-widgets/controls",
      "_model_module_version": "1.5.0",
      "_model_name": "HTMLModel",
      "_view_count": null,
      "_view_module": "@jupyter-widgets/controls",
      "_view_module_version": "1.5.0",
      "_view_name": "HTMLView",
      "description": "",
      "description_tooltip": null,
      "layout": "IPY_MODEL_c1c280f8ba5d4fab8dff8ecd2377ebed",
      "placeholder": "​",
      "style": "IPY_MODEL_ad0552c5cb054d9ba7fbef54544dfd74",
      "value": " 3/3 [04:28&lt;00:00, 87.75s/it]"
     }
    },
    "ad0552c5cb054d9ba7fbef54544dfd74": {
     "model_module": "@jupyter-widgets/controls",
     "model_module_version": "1.5.0",
     "model_name": "DescriptionStyleModel",
     "state": {
      "_model_module": "@jupyter-widgets/controls",
      "_model_module_version": "1.5.0",
      "_model_name": "DescriptionStyleModel",
      "_view_count": null,
      "_view_module": "@jupyter-widgets/base",
      "_view_module_version": "1.2.0",
      "_view_name": "StyleView",
      "description_width": ""
     }
    },
    "bb023c7a801347d2bf850b8b98d72893": {
     "model_module": "@jupyter-widgets/controls",
     "model_module_version": "1.5.0",
     "model_name": "DescriptionStyleModel",
     "state": {
      "_model_module": "@jupyter-widgets/controls",
      "_model_module_version": "1.5.0",
      "_model_name": "DescriptionStyleModel",
      "_view_count": null,
      "_view_module": "@jupyter-widgets/base",
      "_view_module_version": "1.2.0",
      "_view_name": "StyleView",
      "description_width": ""
     }
    },
    "c1c280f8ba5d4fab8dff8ecd2377ebed": {
     "model_module": "@jupyter-widgets/base",
     "model_module_version": "1.2.0",
     "model_name": "LayoutModel",
     "state": {
      "_model_module": "@jupyter-widgets/base",
      "_model_module_version": "1.2.0",
      "_model_name": "LayoutModel",
      "_view_count": null,
      "_view_module": "@jupyter-widgets/base",
      "_view_module_version": "1.2.0",
      "_view_name": "LayoutView",
      "align_content": null,
      "align_items": null,
      "align_self": null,
      "border": null,
      "bottom": null,
      "display": null,
      "flex": null,
      "flex_flow": null,
      "grid_area": null,
      "grid_auto_columns": null,
      "grid_auto_flow": null,
      "grid_auto_rows": null,
      "grid_column": null,
      "grid_gap": null,
      "grid_row": null,
      "grid_template_areas": null,
      "grid_template_columns": null,
      "grid_template_rows": null,
      "height": null,
      "justify_content": null,
      "justify_items": null,
      "left": null,
      "margin": null,
      "max_height": null,
      "max_width": null,
      "min_height": null,
      "min_width": null,
      "object_fit": null,
      "object_position": null,
      "order": null,
      "overflow": null,
      "overflow_x": null,
      "overflow_y": null,
      "padding": null,
      "right": null,
      "top": null,
      "visibility": null,
      "width": null
     }
    },
    "c6f22139aba443209d8db37407b33912": {
     "model_module": "@jupyter-widgets/controls",
     "model_module_version": "1.5.0",
     "model_name": "ProgressStyleModel",
     "state": {
      "_model_module": "@jupyter-widgets/controls",
      "_model_module_version": "1.5.0",
      "_model_name": "ProgressStyleModel",
      "_view_count": null,
      "_view_module": "@jupyter-widgets/base",
      "_view_module_version": "1.2.0",
      "_view_name": "StyleView",
      "bar_color": null,
      "description_width": ""
     }
    },
    "eb6602b4901446d4a714d2ffaa2029d5": {
     "model_module": "@jupyter-widgets/base",
     "model_module_version": "1.2.0",
     "model_name": "LayoutModel",
     "state": {
      "_model_module": "@jupyter-widgets/base",
      "_model_module_version": "1.2.0",
      "_model_name": "LayoutModel",
      "_view_count": null,
      "_view_module": "@jupyter-widgets/base",
      "_view_module_version": "1.2.0",
      "_view_name": "LayoutView",
      "align_content": null,
      "align_items": null,
      "align_self": null,
      "border": null,
      "bottom": null,
      "display": null,
      "flex": null,
      "flex_flow": null,
      "grid_area": null,
      "grid_auto_columns": null,
      "grid_auto_flow": null,
      "grid_auto_rows": null,
      "grid_column": null,
      "grid_gap": null,
      "grid_row": null,
      "grid_template_areas": null,
      "grid_template_columns": null,
      "grid_template_rows": null,
      "height": null,
      "justify_content": null,
      "justify_items": null,
      "left": null,
      "margin": null,
      "max_height": null,
      "max_width": null,
      "min_height": null,
      "min_width": null,
      "object_fit": null,
      "object_position": null,
      "order": null,
      "overflow": null,
      "overflow_x": null,
      "overflow_y": null,
      "padding": null,
      "right": null,
      "top": null,
      "visibility": null,
      "width": null
     }
    }
   }
  }
 },
 "nbformat": 4,
 "nbformat_minor": 1
}
