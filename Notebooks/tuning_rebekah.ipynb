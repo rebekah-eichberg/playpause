{
 "cells": [
  {
   "cell_type": "code",
   "execution_count": null,
   "id": "505504b1",
   "metadata": {},
   "outputs": [],
   "source": [
    "%%capture\n",
    "\n",
    "import os\n",
    "!pip install --no-deps bitsandbytes accelerate xformers==0.0.29.post3 peft trl triton cut_cross_entropy unsloth_zoo\n",
    "!pip install sentencepiece protobuf \"datasets>=3.4.1\" huggingface_hub hf_transfer\n"
   ]
  },
  {
   "cell_type": "code",
   "execution_count": null,
   "id": "2883e0a1",
   "metadata": {},
   "outputs": [],
   "source": [
    "%%capture\n",
    "# Install latest transformers for Gemma 3N\n",
    "!pip install --no-deps git+https://github.com/huggingface/transformers.git # Only for Gemma 3N\n",
    "!pip install --no-deps --upgrade timm # Only for Gemma 3N"
   ]
  },
  {
   "cell_type": "code",
   "execution_count": null,
   "id": "f862220b",
   "metadata": {},
   "outputs": [],
   "source": [
    "import torch\n",
    "\n",
    "if torch.cuda.is_available():\n",
    "    if torch.cuda.get_device_capability()[0] >= 8:\n",
    "        torch_dtype = torch.bfloat16\n",
    "    else:\n",
    "        torch_dtype = torch.float16\n",
    "    device = torch.device(\"cuda\")\n",
    "else:\n",
    "    torch_dtype = torch.float32  # default for CPU\n",
    "    device = torch.device(\"cpu\")"
   ]
  },
  {
   "cell_type": "code",
   "execution_count": null,
   "id": "8ab1dbd3",
   "metadata": {},
   "outputs": [],
   "source": [
    "%%capture\n",
    "pip install --upgrade transformers accelerate bitsandbytes\n"
   ]
  },
  {
   "cell_type": "code",
   "execution_count": null,
   "id": "0a4f688d",
   "metadata": {},
   "outputs": [],
   "source": [
    "from transformers import BitsAndBytesConfig\n",
    "\n",
    "bnb_config = BitsAndBytesConfig(\n",
    "    load_in_8bit=False,\n",
    "    llm_int8_enable_fp32_cpu_offload=True,\n",
    ")\n",
    "\n",
    "model = AutoModelForCausalLM.from_pretrained(\n",
    "    \"google/gemma-3n-e4b-it\",\n",
    "    device_map=\"auto\",\n",
    "    quantization_config=bnb_config)"
   ]
  },
  {
   "cell_type": "code",
   "execution_count": null,
   "id": "0f6c70be",
   "metadata": {},
   "outputs": [],
   "source": [
    "%%capture\n",
    "%pip install -U transformers \n",
    "%pip install -U datasets \n",
    "%pip install -U accelerate \n",
    "%pip install -U peft \n",
    "%pip install -U trl \n",
    "%pip install -U bitsandbytes \n",
    "%pip install -U wandb\n",
    "%pip install python-docx"
   ]
  },
  {
   "cell_type": "code",
   "execution_count": null,
   "id": "47d227b6",
   "metadata": {},
   "outputs": [],
   "source": [
    "from docx import Document\n",
    "import json\n",
    "\n",
    "# Load the DOCX\n",
    "doc = Document(\"Ages 2-4.docx\")\n",
    "\n",
    "# Intermediate buffers\n",
    "qa_pairs = []\n",
    "current_question = None\n",
    "collecting_answer = False\n",
    "current_answer = \"\"\n",
    "\n",
    "for para in doc.paragraphs:\n",
    "    text = para.text.strip()\n",
    "\n",
    "    if not text:\n",
    "        continue  # skip empty lines\n",
    "\n",
    "    # Heuristic: Identify question\n",
    "    if text.lower().startswith(\"why\") or text.lower().startswith(\"how\") or text.endswith(\"?\"):\n",
    "        if current_question and current_answer:\n",
    "            qa_pairs.append((current_question, current_answer.strip()))\n",
    "        current_question = text\n",
    "        current_answer = \"\"\n",
    "        collecting_answer = False\n",
    "\n",
    "    elif \"sparky's answer\" in text.lower():\n",
    "        # Start collecting answer from this point\n",
    "        answer_start = text.split(\"Sparky's Answer:\", 1)[-1].strip()\n",
    "        current_answer = answer_start\n",
    "        collecting_answer = True\n",
    "\n",
    "    elif \"wow! fact\" in text.lower():\n",
    "        collecting_answer = False  # End of answer\n",
    "\n",
    "    elif collecting_answer:\n",
    "        current_answer += \" \" + text\n",
    "\n",
    "# Save final pair if needed\n",
    "if current_question and current_answer:\n",
    "    qa_pairs.append((current_question, current_answer.strip()))\n",
    "\n",
    "# Format and save in JSONL (ChatML style)\n",
    "output_path = \"chatml_data.jsonl\"\n",
    "with open(output_path, \"w\", encoding=\"utf-8\") as f:\n",
    "    for question, answer in qa_pairs:\n",
    "        chatml = (\n",
    "            \"<|begin_of_text|>\\n\"\n",
    "            \"<|user|>\\n\" + question + \"\\n\"\n",
    "            \"<|assistant|>\\n\" + answer + \"\\n\"\n",
    "            \"<|end_of_text|>\"\n",
    "        )\n",
    "        json.dump({\"text\": chatml}, f)\n",
    "        f.write(\"\\n\")\n",
    "\n",
    "print(f\"Extracted {len(qa_pairs)} question-answer pairs and saved to {output_path}\")\n"
   ]
  },
  {
   "cell_type": "code",
   "execution_count": null,
   "id": "38f0a3fc",
   "metadata": {},
   "outputs": [],
   "source": [
    "from datasets import load_dataset\n",
    "dataset = load_dataset(\"json\", data_files=\"chatml_data.jsonl\", split=\"train\")\n",
    "dataset = dataset.shuffle().select(range(37))"
   ]
  },
  {
   "cell_type": "code",
   "execution_count": null,
   "id": "b9822bda",
   "metadata": {},
   "outputs": [],
   "source": [
    "from peft import LoraConfig\n",
    "\n",
    "peft_config = LoraConfig(\n",
    "    lora_alpha=16,\n",
    "    lora_dropout=0.05,\n",
    "    r=16,\n",
    "    bias=\"none\",\n",
    "    target_modules=\"all-linear\",\n",
    "    task_type=\"CAUSAL_LM\",\n",
    "    modules_to_save=[\"lm_head\", \"embed_tokens\"] # make sure to save the lm_head and embed_tokens as you train the special tokens\n",
    ")"
   ]
  },
  {
   "cell_type": "code",
   "execution_count": null,
   "id": "96da2498",
   "metadata": {},
   "outputs": [],
   "source": [
    "from trl import SFTConfig\n",
    "\n",
    "args = SFTConfig(\n",
    "    output_dir=\"gemma-ages-2-4\",            # directory to save and repository id\n",
    "    max_seq_length=512,                     # max sequence length for model and packing of the dataset\n",
    "    packing=True,                           # Groups multiple samples in the dataset into a single sequence\n",
    "    num_train_epochs=3,                     # number of training epochs\n",
    "    per_device_train_batch_size=1,          # batch size per device during training\n",
    "    gradient_accumulation_steps=4,          # number of steps before performing a backward/update pass\n",
    "    gradient_checkpointing=True,            # use gradient checkpointing to save memory\n",
    "    optim=\"adamw_torch_fused\",              # use fused adamw optimizer\n",
    "    logging_steps=10,                       # log every 10 steps\n",
    "    save_strategy=\"epoch\",                  # save checkpoint every epoch\n",
    "    learning_rate=2e-4,                     # learning rate, based on QLoRA paper\n",
    "    fp16=True if torch_dtype == torch.float16 else False,   # use float16 precision\n",
    "    bf16=True if torch_dtype == torch.bfloat16 else False,   # use bfloat16 precision\n",
    "    max_grad_norm=0.3,                      # max gradient norm based on QLoRA paper\n",
    "    warmup_ratio=0.03,                      # warmup ratio based on QLoRA paper\n",
    "    lr_scheduler_type=\"constant\",           # use constant learning rate scheduler\n",
    "    push_to_hub=True,                       # push model to hub\n",
    "    report_to=\"tensorboard\",                # report metrics to tensorboard\n",
    "    dataset_kwargs={\n",
    "        \"add_special_tokens\": False, # We template with special tokens\n",
    "        \"append_concat_token\": True, # Add EOS token as separator token between examples\n",
    "    }\n",
    ")"
   ]
  },
  {
   "cell_type": "code",
   "execution_count": null,
   "id": "70cc8fec",
   "metadata": {},
   "outputs": [],
   "source": [
    "from trl import SFTTrainer\n",
    "\n",
    "# Create Trainer object\n",
    "trainer = SFTTrainer(\n",
    "    model=model,\n",
    "    args=args,\n",
    "    train_dataset=dataset,\n",
    "    peft_config=peft_config,\n",
    "    processing_class=tokenizer\n",
    ")"
   ]
  },
  {
   "cell_type": "code",
   "execution_count": null,
   "id": "83ed749d",
   "metadata": {},
   "outputs": [],
   "source": [
    "trainer.train()"
   ]
  }
 ],
 "metadata": {
  "kernelspec": {
   "display_name": "erdos_summer_2025",
   "language": "python",
   "name": "python3"
  },
  "language_info": {
   "codemirror_mode": {
    "name": "ipython",
    "version": 3
   },
   "file_extension": ".py",
   "mimetype": "text/x-python",
   "name": "python",
   "nbconvert_exporter": "python",
   "pygments_lexer": "ipython3",
   "version": "3.12.10"
  }
 },
 "nbformat": 4,
 "nbformat_minor": 5
}
