{
 "cells": [
  {
   "cell_type": "code",
   "execution_count": 5,
   "id": "6ef74618",
   "metadata": {},
   "outputs": [],
   "source": [
    "import json \n",
    "import numpy as np\n",
    "from docx import Document"
   ]
  },
  {
   "cell_type": "code",
   "execution_count": 7,
   "id": "a0e5d42c",
   "metadata": {},
   "outputs": [],
   "source": [
    "input_txt = 'Ages 2-4.docx'\n",
    "\n",
    "doc = Document(input_txt)"
   ]
  },
  {
   "cell_type": "code",
   "execution_count": 10,
   "id": "f1b206b6",
   "metadata": {},
   "outputs": [],
   "source": [
    "para = doc.paragraphs"
   ]
  },
  {
   "cell_type": "code",
   "execution_count": 26,
   "id": "1d224057",
   "metadata": {},
   "outputs": [
    {
     "name": "stdout",
     "output_type": "stream",
     "text": [
      "Ages 2–4: Early Curiosity - Sparky's Answers!\n",
      "Simple, concrete, everyday observations about living things, weather, and the body.\n",
      "Human Body & Health\n",
      "Animals & Nature\n",
      "Earth & Space\n",
      "Physics & Chemistry\n",
      "Technology\n",
      "\n"
     ]
    }
   ],
   "source": [
    "questions = []\n",
    "answers = []\n",
    "wow_fact = []\n",
    "for i in range(len(para)):\n",
    "    x = para[i].text\n",
    "    if x.endswith('?'):\n",
    "        questions.append(x)\n",
    "    elif x.startswith(\"Sparky's Answer\"):\n",
    "        answers.append(x[17:])\n",
    "    elif x.startswith(\"Wow! Fact\"):\n",
    "        wow_fact.append(x[11:])\n",
    "    else:\n",
    "        print(x)"
   ]
  },
  {
   "cell_type": "code",
   "execution_count": 31,
   "id": "a4a18b32",
   "metadata": {},
   "outputs": [],
   "source": [
    "system_prompt = (\n",
    "    \"You are a cheerful and friendly tutor for children aged 2 to 4. \"\n",
    "    \"Use simple words and fun metaphors to explain things clearly. \"\n",
    "    \"Be playful and keep answers short and exciting. Maybe use known cartoon characters in your explanation\"\n",
    "    \"You can use characters like 'sugar bugs' or 'energy monsters' to make it fun.\"\n",
    ")"
   ]
  },
  {
   "cell_type": "code",
   "execution_count": 41,
   "id": "062f38dd",
   "metadata": {},
   "outputs": [],
   "source": [
    "chat_entries = []\n",
    "other_entries = []\n",
    "\n",
    "for i in range(len(questions)):\n",
    "    full_response = f\"{answers[i]}\\nWow! {wow_fact[i]}\"\n",
    "    chat_entry = {\n",
    "        \"messages\": [\n",
    "                {\n",
    "                    \"role\": \"system\",\n",
    "                    \"content\": [{\"type\": \"text\", \"text\": system_prompt}]\n",
    "                },\n",
    "                {\n",
    "                    \"role\": \"user\",\n",
    "                    \"content\": [{\"type\": \"text\", \"text\": questions[i]}]\n",
    "                },\n",
    "                {\n",
    "                    \"role\": \"assistant\",\n",
    "                    \"content\": [{\"type\": \"text\", \"text\": full_response}]\n",
    "                }\n",
    "            ]\n",
    "        }\n",
    "    \n",
    "    other_form = {\"Input\" : questions[i], \"Output\" : full_response}\n",
    "    other_entries.append(other_form)\n",
    "    chat_entries.append(chat_entry)"
   ]
  },
  {
   "cell_type": "code",
   "execution_count": 42,
   "id": "d1807977",
   "metadata": {},
   "outputs": [],
   "source": [
    "output_jsonl = \"Age_2_4_train.json\"\n",
    "with open(output_jsonl, \"w\", encoding=\"utf-8\") as f:\n",
    "    for entry in chat_entries:\n",
    "        f.write(json.dumps(entry, ensure_ascii=False) + \"\\n\")"
   ]
  },
  {
   "cell_type": "code",
   "execution_count": 43,
   "id": "6ff5e116",
   "metadata": {},
   "outputs": [],
   "source": [
    "output_jsonl = \"Age_2_4_train_other.json\"\n",
    "with open(output_jsonl, \"w\", encoding=\"utf-8\") as f:\n",
    "    for entry in other_entries:\n",
    "        f.write(json.dumps(entry, ensure_ascii=False) + \"\\n\")"
   ]
  },
  {
   "cell_type": "code",
   "execution_count": null,
   "id": "cf2d6388",
   "metadata": {},
   "outputs": [],
   "source": []
  }
 ],
 "metadata": {
  "kernelspec": {
   "display_name": "Python 3",
   "language": "python",
   "name": "python3"
  },
  "language_info": {
   "codemirror_mode": {
    "name": "ipython",
    "version": 3
   },
   "file_extension": ".py",
   "mimetype": "text/x-python",
   "name": "python",
   "nbconvert_exporter": "python",
   "pygments_lexer": "ipython3",
   "version": "3.8.8"
  }
 },
 "nbformat": 4,
 "nbformat_minor": 5
}
